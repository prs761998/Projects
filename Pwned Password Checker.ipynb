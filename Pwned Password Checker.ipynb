{
 "cells": [
  {
   "cell_type": "markdown",
   "metadata": {},
   "source": [
    "## Pwned Password Checker\n",
    "\n",
    "### This Code will check whether a password has been breached ever"
   ]
  },
  {
   "cell_type": "code",
   "execution_count": 2,
   "metadata": {},
   "outputs": [],
   "source": [
    "import requests\n",
    "import hashlib"
   ]
  },
  {
   "cell_type": "markdown",
   "metadata": {},
   "source": [
    "### This function will encode our password in hash and send first 5 hash value over to API"
   ]
  },
  {
   "cell_type": "code",
   "execution_count": 3,
   "metadata": {},
   "outputs": [],
   "source": [
    "def pwned_api_check(password):\n",
    "    sha1=hashlib.sha1(password.encode('utf-8')).hexdigest().upper()\n",
    "    sha1,tail=sha1[:5],sha1[5:]\n",
    "    return sha1,tail"
   ]
  },
  {
   "cell_type": "markdown",
   "metadata": {},
   "source": [
    "### Here we will get all the passwords with same first 5 hash value as of our password, from the API"
   ]
  },
  {
   "cell_type": "code",
   "execution_count": 4,
   "metadata": {},
   "outputs": [],
   "source": [
    "def request_api_data(qwery_char):\n",
    "    url = 'https://api.pwnedpasswords.com/range/' + qwery_char\n",
    "    res= requests.get(url)\n",
    "    if res.status_code!=200:\n",
    "        raise RuntimeError(f'Error fetching : {res.status_code}')\n",
    "    return res"
   ]
  },
  {
   "cell_type": "markdown",
   "metadata": {},
   "source": [
    "### This function will match the remaining hash values to the list the passwords and count the repetition"
   ]
  },
  {
   "cell_type": "code",
   "execution_count": 5,
   "metadata": {},
   "outputs": [],
   "source": [
    "def leak_counts(res,tail):\n",
    "    hashes = (line.split(':') for line in res.text.splitlines())\n",
    "    for h, count in hashes:\n",
    "        if h==tail:\n",
    "            return count\n",
    "    return 0"
   ]
  },
  {
   "cell_type": "markdown",
   "metadata": {},
   "source": [
    "### Main function"
   ]
  },
  {
   "cell_type": "code",
   "execution_count": 8,
   "metadata": {},
   "outputs": [
    {
     "name": "stdout",
     "output_type": "stream",
     "text": [
      "Enter a list of passwords\n",
      "HELLO wdgedj\n",
      "HELLO has been breached 4311 times\n",
      "\n",
      "wdgedj is unique password\n"
     ]
    }
   ],
   "source": [
    "def main(args):\n",
    "    for password in args:\n",
    "        char,tail=pwned_api_check(password)\n",
    "        res=request_api_data(char)\n",
    "        count=leak_counts(res,tail)\n",
    "        if count==0:\n",
    "            print(f'{password} is unique password')\n",
    "        else:\n",
    "            print(f'{password} has been breached {count} times\\n')\n",
    "if __name__=='__main__':\n",
    "    main(input('Enter a list of passwords\\n').split())            \n",
    "        \n"
   ]
  }
 ],
 "metadata": {
  "kernelspec": {
   "display_name": "Python 3",
   "language": "python",
   "name": "python3"
  },
  "language_info": {
   "codemirror_mode": {
    "name": "ipython",
    "version": 3
   },
   "file_extension": ".py",
   "mimetype": "text/x-python",
   "name": "python",
   "nbconvert_exporter": "python",
   "pygments_lexer": "ipython3",
   "version": "3.7.3"
  }
 },
 "nbformat": 4,
 "nbformat_minor": 2
}
