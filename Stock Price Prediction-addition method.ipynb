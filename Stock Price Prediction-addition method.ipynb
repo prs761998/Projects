{
 "cells": [
  {
   "cell_type": "markdown",
   "metadata": {},
   "source": [
    "# Project : Stock Price Prediction\n",
    "The objective of this project is to accurately predict the  Adjusted closing value of a given stock across a given period of time.\n",
    "\n",
    "The price of a stock can be modeled by a continuous stochastic process which is the sum between a predictable and an unpredictable part. Therefore I have used combination of Linear Regression {for modelling predictable part} and SVR { for modelling unpredictable part}.\n"
   ]
  },
  {
   "cell_type": "markdown",
   "metadata": {},
   "source": [
    "### Importing Libraries"
   ]
  },
  {
   "cell_type": "code",
   "execution_count": 17,
   "metadata": {
    "colab": {},
    "colab_type": "code",
    "id": "CW4pBSLhpCeP"
   },
   "outputs": [],
   "source": [
    "import pandas as pd\n",
    "import datetime\n",
    "from pandas_datareader import data, wb\n",
    "import numpy as np\n",
    "from sklearn.preprocessing import StandardScaler\n",
    "import matplotlib.pyplot as plt\n",
    "from sklearn.model_selection import train_test_split"
   ]
  },
  {
   "cell_type": "markdown",
   "metadata": {},
   "source": [
    "### Function to get historical data of any stocks, from Yahoo Finance.\n",
    "\n"
   ]
  },
  {
   "cell_type": "code",
   "execution_count": 18,
   "metadata": {},
   "outputs": [],
   "source": [
    "def get_historical_data(symbol,start_date,end_date):\n",
    "    \n",
    "    ''' Daily quotes from Yahoo Finance. Date format='datetime.date(yyyy-mm-dd)'\n",
    "        symbol : stock symbol eg: GOOGL, FB , AAPL\n",
    "        start_date, end _date =  period for which, data is required     \n",
    "    '''\n",
    "    symbol = symbol.upper()\n",
    "    return data.DataReader(symbol, 'yahoo', start_date, end_date)"
   ]
  },
  {
   "cell_type": "markdown",
   "metadata": {},
   "source": [
    "### Function to shift the dates by delta_time \n",
    "    This function is used to shift the prediction period by 5 years, to get train data"
   ]
  },
  {
   "cell_type": "code",
   "execution_count": 19,
   "metadata": {},
   "outputs": [],
   "source": [
    "def train_dates(start_date,end_date,delta_time):\n",
    "    \n",
    "    start_date = datetime.date(int(start_date[0:4]), int(start_date[5:7]), int(start_date[8:10]))\n",
    "    end_date = datetime.date(int(end_date[0:4]), int(end_date[5:7]), int(end_date[8:10]))\n",
    "    #prediction_days = np.busday_count(start_date,end_date)\n",
    "    train_start=(start_date +datetime.timedelta(-delta_time))\n",
    "    train_end=(start_date +datetime.timedelta(-1))\n",
    "    \n",
    "    return train_start,train_end,start_date,end_date\n",
    "    "
   ]
  },
  {
   "cell_type": "markdown",
   "metadata": {},
   "source": [
    "### Function to remove weekends from a particular date range\n",
    "    This function is required because Stock Prices are not available for weekends\n",
    "    "
   ]
  },
  {
   "cell_type": "code",
   "execution_count": 20,
   "metadata": {},
   "outputs": [],
   "source": [
    "def datetime_range(start_date, end_date,alpha):\n",
    "    dates=[]\n",
    "    span = end_date - start_date\n",
    "    for i in range(span.days + 1):\n",
    "        dates.append(start_date + datetime.timedelta(days=i))\n",
    "    \n",
    "    weekday=list(map(lambda x : x.weekday(),dates))\n",
    "    dates=list(map(lambda x:(x-alpha).days,dates))\n",
    "    \n",
    "    date_range=[dates[i] for i in range(len(dates)) if weekday[i] not in [5,6] ]\n",
    "    return date_range"
   ]
  },
  {
   "cell_type": "markdown",
   "metadata": {},
   "source": [
    "## Linear Part"
   ]
  },
  {
   "cell_type": "code",
   "execution_count": 21,
   "metadata": {},
   "outputs": [],
   "source": [
    "def get_prediction_linear(stock,start_date,end_date):\n",
    "    \n",
    "    '''\n",
    "    stock : stock symbol eg: GOOGL, FB , AAPL\n",
    "    start_date, end_date : period for which prediction is required\n",
    "    Date format='yyyy-mm-dd'\n",
    "    \n",
    "    '''\n",
    "    ## First Step is to shift both start_date and end_date by 5 years\n",
    "    train_start,train_end,start_date,end_date = train_dates(start_date,end_date,5*365)   \n",
    "    \n",
    "    ## Retrieve Stock prices for shifted range\n",
    "    df = get_historical_data(stock,train_start,train_end)    \n",
    "    alpha=(df.index[0]).date()\n",
    "\n",
    "    df=df.reset_index()\n",
    "    \n",
    "    ## Change the dates into integers, and get bot x_train and y_train\n",
    "    \n",
    "    df['Date']=df['Date'].apply(lambda x:(x.date()-alpha).days)\n",
    "    X_train=df[['Date']]\n",
    "    y_train=df[['Adj Close']]\n",
    "    y_train=pd.DataFrame(data=np.array(y_train['Adj Close']),columns=y_train.columns,index=X_train['Date'])\n",
    "    \n",
    "    date_range=datetime_range(start_date, end_date,alpha)\n",
    "    x_predict=pd.DataFrame(date_range,columns=['Date'])\n",
    "    \n",
    "    ## Linear Regression    \n",
    "    from sklearn.linear_model import LinearRegression\n",
    "    classifier = LinearRegression()\n",
    "    classifier.fit(X_train, y_train)\n",
    "    \n",
    "    clf_prediction = classifier.predict(X_train)\n",
    "    clf_prediction_train=pd.DataFrame(data=clf_prediction,columns=y_train.columns,index=X_train['Date'])\n",
    "    \n",
    "    clf_prediction = classifier.predict(x_predict)    \n",
    "    clf_prediction_test=pd.DataFrame(data=clf_prediction,columns=y_train.columns,index=x_predict.Date) \n",
    "    \n",
    "    ## Return the difference between predicted and actual value\n",
    "    ### This difference will be modeled in further process\n",
    "    stochastic_part=y_train-clf_prediction_train\n",
    "    \n",
    "    return stochastic_part,clf_prediction_train,clf_prediction_test,x_predict"
   ]
  },
  {
   "cell_type": "markdown",
   "metadata": {},
   "source": [
    "## Stochastic Part"
   ]
  },
  {
   "cell_type": "code",
   "execution_count": 22,
   "metadata": {},
   "outputs": [],
   "source": [
    "def stochastic_part(stock,start_date,end_date):\n",
    "    \n",
    "    ## Retrieve Stochastic part from linear Function\n",
    "    stochastic_train,dummy1,dummy2,X_test=get_prediction_linear(stock,start_date,end_date)\n",
    "    X_train=stochastic_train.reset_index()[['Date']]\n",
    "    y_train=stochastic_train[['Adj Close']]\n",
    "       \n",
    "    from sklearn.svm import SVR\n",
    "    svr_rbf = SVR(kernel='rbf', C=50, gamma=0.00001)\n",
    "    \n",
    "    svr_rbf.fit(X_train, y_train)\n",
    "    stochastic_test=svr_rbf.predict(X_test)\n",
    "    stochastic_train=svr_rbf.predict(X_train)\n",
    "    \n",
    "    stochastic_test=pd.DataFrame(stochastic_test,columns=y_train.columns,index=X_test.Date)\n",
    "    stochastic_train=pd.DataFrame(stochastic_train,columns=y_train.columns,index=X_train.Date)\n",
    "    \n",
    "    return stochastic_train, stochastic_test"
   ]
  },
  {
   "cell_type": "markdown",
   "metadata": {},
   "source": [
    "## Final Prediction"
   ]
  },
  {
   "cell_type": "code",
   "execution_count": 23,
   "metadata": {},
   "outputs": [],
   "source": [
    "def stock_price_prediction(stock,start_date,end_date):\n",
    "    \n",
    "    dummy,linear_part_train,linear_part_test,X_test=get_prediction_linear(stock,start_date,end_date)\n",
    "    stochastic_train,stochastic_test = stochastic_part(stock,start_date,end_date)\n",
    "    \n",
    "    stock_price_train = linear_part_train+stochastic_train\n",
    "    stock_price_test = linear_part_test+stochastic_test\n",
    "    \n",
    "    train_start,train_end,start_date,end_date = train_dates(start_date,end_date,5*365)\n",
    "   \n",
    "    ## Retrieve Actual Stock Prices again for comparison\n",
    "    y_train = get_historical_data(stock,train_start,train_end)[['Adj Close']]\n",
    "    stock_price_train.index=y_train.index\n",
    "    \n",
    "    delta=stock_price_test.index-stock_price_test.index[0]\n",
    "    new_index = [start_date + datetime.timedelta(x) for x in delta]\n",
    "    stock_price_test.index=new_index\n",
    "    actual_price = get_historical_data(stock,train_start,end_date)[['Adj Close']]   \n",
    "    \n",
    "    return stock_price_train,stock_price_test,actual_price\n",
    "\n",
    "    \n",
    "    "
   ]
  },
  {
   "cell_type": "code",
   "execution_count": 31,
   "metadata": {},
   "outputs": [
    {
     "name": "stdout",
     "output_type": "stream",
     "text": [
      "Enter stocks symbol\tgoogl\n",
      "Enter start date of prediction in yyyy-mm-dd format2020-01-01\n",
      "Enter end date of prediction in yyyy-mm-dd format2020-12-31\n"
     ]
    },
    {
     "name": "stderr",
     "output_type": "stream",
     "text": [
      "C:\\Users\\priyanshu\\AppData\\Local\\Continuum\\anaconda3\\lib\\site-packages\\sklearn\\utils\\validation.py:724: DataConversionWarning: A column-vector y was passed when a 1d array was expected. Please change the shape of y to (n_samples, ), for example using ravel().\n",
      "  y = column_or_1d(y, warn=True)\n"
     ]
    },
    {
     "data": {
      "image/png": "[encoded data removed]",
      "text/plain": [
       "<Figure size 1080x360 with 1 Axes>"
      ]
     },
     "metadata": {
      "needs_background": "light"
     },
     "output_type": "display_data"
    }
   ],
   "source": [
    "stock=input(\"Enter stocks symbol\\t\")\n",
    "start_date=input(\"Enter start date of prediction in yyyy-mm-dd format\")\n",
    "end_date=input(\"Enter end date of prediction in yyyy-mm-dd format\")\n",
    "#############################################################################\n",
    "stock_price_train,stock_price_test,actual=stock_price_prediction(stock,start_date,end_date)\n",
    "plt.figure(figsize=[15,5])\n",
    "plt.plot(stock_price_train,'b',label=\"prediction_train\")\n",
    "plt.plot(stock_price_test,'r',label=\"prediction_test\")\n",
    "plt.plot(actual,c='grey',linestyle='dashed',label=\"Actual Value\")\n",
    "plt.legend(loc='upper left')\n",
    "plt.grid()\n",
    "plt.show()\n"
   ]
  },
  {
   "cell_type": "code",
   "execution_count": null,
   "metadata": {},
   "outputs": [],
   "source": []
  }
 ],
 "metadata": {
  "colab": {
   "name": "Bitcoin_Price_Prediction.ipynb",
   "provenance": [],
   "version": "0.3.2"
  },
  "kernelspec": {
   "display_name": "Python 3",
   "language": "python",
   "name": "python3"
  },
  "language_info": {
   "codemirror_mode": {
    "name": "ipython",
    "version": 3
   },
   "file_extension": ".py",
   "mimetype": "text/x-python",
   "name": "python",
   "nbconvert_exporter": "python",
   "pygments_lexer": "ipython3",
   "version": "3.7.3"
  }
 },
 "nbformat": 4,
 "nbformat_minor": 1
}
